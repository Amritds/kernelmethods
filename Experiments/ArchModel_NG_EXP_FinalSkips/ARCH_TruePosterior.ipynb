{
 "cells": [
  {
   "cell_type": "code",
   "execution_count": 1,
   "metadata": {},
   "outputs": [],
   "source": [
    "from Utilities.ExpModels import ArchModel\n",
    "import numpy as np\n",
    "from scipy.integrate import quad, dblquad"
   ]
  },
  {
   "cell_type": "code",
   "execution_count": 2,
   "metadata": {},
   "outputs": [],
   "source": [
    "model = ArchModel(-1,1, 0,1) \n",
    "theta1 = 0.3\n",
    "theta2 = 0.3\n",
    "x = model.GeneratorThetaGiven([theta1,theta2],1)[0]"
   ]
  },
  {
   "cell_type": "code",
   "execution_count": 3,
   "metadata": {},
   "outputs": [],
   "source": [
    "def ret_e(theta1,x):\n",
    "    Q = np.identity(100)\n",
    "    R = np.identity(99)*(-theta1)\n",
    "    Q[1:,:-1] = Q[1:,:-1] + R\n",
    "    x = x.reshape(100,1)\n",
    "    e = np.dot(Q,x).reshape(100)\n",
    "    return e\n",
    "\n",
    "def val1(a,b,theta2):\n",
    "    return np.exp(-np.power(b,2)/(2*(0.2+theta2*np.power(a,2))))/np.sqrt(2*np.pi*(0.2+theta2*np.power(a,2)))\n",
    "\n",
    "def val2(a):\n",
    "    return np.exp(-np.power(a,2)/2)/np.sqrt(2*np.pi)\n",
    "\n",
    "def p1_integrand(a,b,theta2):\n",
    "    return np.exp(val1(a,b,theta2) * val2(a))\n",
    "\n",
    "def p1(b,theta2):\n",
    "    return quad(p1_integrand,-np.inf,np.inf,args = (b,theta2))[0]\n",
    "\n",
    "def Log_prod_term(e,theta2):\n",
    "    prod = 0\n",
    "    for i in range(1,100):\n",
    "        prod = prod + Log_val1(e[i-1],e[i],theta2)\n",
    "    return prod\n",
    "\n",
    "def probability(theta1,theta2):\n",
    "    e = ret_e(theta1,x)\n",
    "    print(Log_p1(e[0],theta2),' ',Log_prod_term(e,theta2))\n",
    "    return np.exp(Log_p1(e[0],theta2) + Log_prod_term(e,theta2))\n",
    "\n",
    "def Lognumerator(theta1,theta2,x):\n",
    "    return np.log(probability(theta1,theta2))\n",
    "\n",
    "def Logdenominator(x):\n",
    "    return np.log(dblquad(probability,-1,1,lambda q: 0,lambda q: 1)[0])\n",
    "\n",
    "def true_probability(theta1,theta2,x):\n",
    "    return np.exp(Lognumerator(theta1,theta2,x) - Logdenominator(x))"
   ]
  },
  {
   "cell_type": "code",
   "execution_count": 4,
   "metadata": {},
   "outputs": [
    {
     "ename": "NameError",
     "evalue": "name 'Log_p1' is not defined",
     "output_type": "error",
     "traceback": [
      "\u001b[0;31m---------------------------------------------------------------------------\u001b[0m",
      "\u001b[0;31mNameError\u001b[0m                                 Traceback (most recent call last)",
      "\u001b[0;32m<ipython-input-4-c1d6e6c44b97>\u001b[0m in \u001b[0;36m<module>\u001b[0;34m()\u001b[0m\n\u001b[0;32m----> 1\u001b[0;31m \u001b[0mprobability\u001b[0m\u001b[0;34m(\u001b[0m\u001b[0mtheta1\u001b[0m\u001b[0;34m,\u001b[0m\u001b[0mtheta2\u001b[0m\u001b[0;34m)\u001b[0m\u001b[0;34m\u001b[0m\u001b[0m\n\u001b[0m",
      "\u001b[0;32m<ipython-input-3-3aa3704d8b88>\u001b[0m in \u001b[0;36mprobability\u001b[0;34m(theta1, theta2)\u001b[0m\n\u001b[1;32m     27\u001b[0m \u001b[0;32mdef\u001b[0m \u001b[0mprobability\u001b[0m\u001b[0;34m(\u001b[0m\u001b[0mtheta1\u001b[0m\u001b[0;34m,\u001b[0m\u001b[0mtheta2\u001b[0m\u001b[0;34m)\u001b[0m\u001b[0;34m:\u001b[0m\u001b[0;34m\u001b[0m\u001b[0m\n\u001b[1;32m     28\u001b[0m     \u001b[0me\u001b[0m \u001b[0;34m=\u001b[0m \u001b[0mret_e\u001b[0m\u001b[0;34m(\u001b[0m\u001b[0mtheta1\u001b[0m\u001b[0;34m,\u001b[0m\u001b[0mx\u001b[0m\u001b[0;34m)\u001b[0m\u001b[0;34m\u001b[0m\u001b[0m\n\u001b[0;32m---> 29\u001b[0;31m     \u001b[0mprint\u001b[0m\u001b[0;34m(\u001b[0m\u001b[0mLog_p1\u001b[0m\u001b[0;34m(\u001b[0m\u001b[0me\u001b[0m\u001b[0;34m[\u001b[0m\u001b[0;36m0\u001b[0m\u001b[0;34m]\u001b[0m\u001b[0;34m,\u001b[0m\u001b[0mtheta2\u001b[0m\u001b[0;34m)\u001b[0m\u001b[0;34m,\u001b[0m\u001b[0;34m' '\u001b[0m\u001b[0;34m,\u001b[0m\u001b[0mLog_prod_term\u001b[0m\u001b[0;34m(\u001b[0m\u001b[0me\u001b[0m\u001b[0;34m,\u001b[0m\u001b[0mtheta2\u001b[0m\u001b[0;34m)\u001b[0m\u001b[0;34m)\u001b[0m\u001b[0;34m\u001b[0m\u001b[0m\n\u001b[0m\u001b[1;32m     30\u001b[0m     \u001b[0;32mreturn\u001b[0m \u001b[0mnp\u001b[0m\u001b[0;34m.\u001b[0m\u001b[0mexp\u001b[0m\u001b[0;34m(\u001b[0m\u001b[0mLog_p1\u001b[0m\u001b[0;34m(\u001b[0m\u001b[0me\u001b[0m\u001b[0;34m[\u001b[0m\u001b[0;36m0\u001b[0m\u001b[0;34m]\u001b[0m\u001b[0;34m,\u001b[0m\u001b[0mtheta2\u001b[0m\u001b[0;34m)\u001b[0m \u001b[0;34m+\u001b[0m \u001b[0mLog_prod_term\u001b[0m\u001b[0;34m(\u001b[0m\u001b[0me\u001b[0m\u001b[0;34m,\u001b[0m\u001b[0mtheta2\u001b[0m\u001b[0;34m)\u001b[0m\u001b[0;34m)\u001b[0m\u001b[0;34m\u001b[0m\u001b[0m\n\u001b[1;32m     31\u001b[0m \u001b[0;34m\u001b[0m\u001b[0m\n",
      "\u001b[0;31mNameError\u001b[0m: name 'Log_p1' is not defined"
     ]
    }
   ],
   "source": [
    "probability(theta1,theta2)"
   ]
  },
  {
   "cell_type": "code",
   "execution_count": 5,
   "metadata": {},
   "outputs": [
    {
     "ename": "NameError",
     "evalue": "name 'Logtrue_probability' is not defined",
     "output_type": "error",
     "traceback": [
      "\u001b[0;31m---------------------------------------------------------------------------\u001b[0m",
      "\u001b[0;31mNameError\u001b[0m                                 Traceback (most recent call last)",
      "\u001b[0;32m<ipython-input-5-2515d3ecc2ab>\u001b[0m in \u001b[0;36m<module>\u001b[0;34m()\u001b[0m\n\u001b[0;32m----> 1\u001b[0;31m \u001b[0mLogtrue_probability\u001b[0m\u001b[0;34m(\u001b[0m\u001b[0mtheta1\u001b[0m\u001b[0;34m,\u001b[0m\u001b[0mtheta2\u001b[0m\u001b[0;34m,\u001b[0m\u001b[0mx\u001b[0m\u001b[0;34m)\u001b[0m\u001b[0;34m\u001b[0m\u001b[0m\n\u001b[0m",
      "\u001b[0;31mNameError\u001b[0m: name 'Logtrue_probability' is not defined"
     ]
    }
   ],
   "source": [
    "Logtrue_probability(theta1,theta2,x)"
   ]
  },
  {
   "cell_type": "code",
   "execution_count": 6,
   "metadata": {},
   "outputs": [
    {
     "name": "stderr",
     "output_type": "stream",
     "text": [
      "/home/amrit/miniconda3/envs/kernelsProject/lib/python3.6/site-packages/ipykernel_launcher.py:1: RuntimeWarning: divide by zero encountered in log\n",
      "  \"\"\"Entry point for launching an IPython kernel.\n"
     ]
    },
    {
     "data": {
      "text/plain": [
       "-inf"
      ]
     },
     "execution_count": 6,
     "metadata": {},
     "output_type": "execute_result"
    }
   ],
   "source": [
    "np.log(0)"
   ]
  },
  {
   "cell_type": "code",
   "execution_count": 7,
   "metadata": {},
   "outputs": [
    {
     "data": {
      "text/plain": [
       "(100,)"
      ]
     },
     "execution_count": 7,
     "metadata": {},
     "output_type": "execute_result"
    }
   ],
   "source": [
    "x.shape"
   ]
  },
  {
   "cell_type": "code",
   "execution_count": null,
   "metadata": {},
   "outputs": [],
   "source": [
    "x = model.GeneratorThetaGiven([theta1,theta2],1)[0]\n",
    "n1=10\n",
    "n2=10\n",
    "theta1_values=np.linspace(-0.75,0.75 , n1)\n",
    "theta2_values=np.linspace( 0.1,0 , n2)\n",
    "xv,yv = np.meshgrid(theta1_values,theta2_values)\n",
    "theta_vals = np.dstack((xv,yv))\n",
    "theta_values = theta_vals.reshape(n1*n2,2)\n",
    "\n",
    "from Utilities.ExpModels import  ArchModel, ARCH_TP\n",
    "obj = ARCH_TP()\n",
    "true_posterior = obj.truePosterior(x*10,theta_values)"
   ]
  }
 ],
 "metadata": {
  "kernelspec": {
   "display_name": "Python 3 (ipykernel)",
   "language": "python",
   "name": "python3"
  },
  "language_info": {
   "codemirror_mode": {
    "name": "ipython",
    "version": 3
   },
   "file_extension": ".py",
   "mimetype": "text/x-python",
   "name": "python",
   "nbconvert_exporter": "python",
   "pygments_lexer": "ipython3",
   "version": "3.11.4"
  }
 },
 "nbformat": 4,
 "nbformat_minor": 2
}
