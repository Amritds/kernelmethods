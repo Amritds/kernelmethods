{
 "cells": [
  {
   "cell_type": "code",
   "execution_count": 1,
   "metadata": {},
   "outputs": [],
   "source": [
    "from Utilities.ExpModels import ArchModel\n",
    "import numpy as np\n",
    "from scipy.integrate import quad"
   ]
  },
  {
   "cell_type": "code",
   "execution_count": 2,
   "metadata": {},
   "outputs": [],
   "source": [
    "model = ArchModel(-1,1, 0,1) \n",
    "theta1 = 0.3\n",
    "theta2 = 0.3\n",
    "x = model.GeneratorThetaGiven([theta1,theta2],1)[0]*10"
   ]
  },
  {
   "cell_type": "code",
   "execution_count": 3,
   "metadata": {},
   "outputs": [],
   "source": [
    "def ret_e(theta1,x):\n",
    "    Q = np.identity(100)\n",
    "    R = np.identity(99)*(-theta1)\n",
    "    Q[1:,:-1] = Q[1:,:-1] + R\n",
    "    x = x.reshape(100,1)\n",
    "    e = np.dot(Q,x).reshape(100)\n",
    "    return e\n",
    "\n",
    "def val1(a,b,theta2):\n",
    "    return (np.exp(-np.power(b,2)/(2*(0.2+theta2*np.power(a,2))))/np.sqrt(2*np.pi*(0.2+theta2*np.power(a,2))))\n",
    "\n",
    "def val2(a):\n",
    "    return (np.exp(-np.power(a,2)/2)/np.sqrt(2*np.pi))\n",
    "\n",
    "def p1_integrand(a,b,theta2):\n",
    "    return val1(a,b,theta2)*val2(a)\n",
    "\n",
    "def p1(b,theta2):\n",
    "    return quad(p1_integrand,-np.inf,np.inf,args = (b,theta2))[0]\n",
    "\n",
    "def prod_term(e,theta2):\n",
    "    prod = 0\n",
    "    for i in range(1,100):\n",
    "        prod = prod + np.log(val1(e[i-1],e[i],theta2))\n",
    "    return np.exp(prod)\n",
    "\n",
    "def probability(theta1,theta2,x):\n",
    "    e = ret_e(theta1,x)\n",
    "    return p1(e[0],theta2) * prod_term(e,theta2)\n",
    "\n",
    "def numerator(theta1,theta2,x):\n",
    "    return probability(theta1,theta2,x)\n",
    "\n",
    "def denominator_integrand(theta2,x):\n",
    "    return quad(probability,-1,1,args =(theta2,x))[0]\n",
    "\n",
    "def denominator(x):\n",
    "    return quad(denominator_integrand,0,1,args = (x))[0]\n",
    "\n",
    "def true_probability(theta1,theta2,x):\n",
    "    return numerator(theta1,theta2,x)/denominator(x)"
   ]
  },
  {
   "cell_type": "code",
   "execution_count": 4,
   "metadata": {},
   "outputs": [
    {
     "data": {
      "text/plain": [
       "0.52655249797899895"
      ]
     },
     "execution_count": 4,
     "metadata": {},
     "output_type": "execute_result"
    }
   ],
   "source": [
    "true_probability(theta1,theta2,x)"
   ]
  },
  {
   "cell_type": "code",
   "execution_count": 5,
   "metadata": {},
   "outputs": [
    {
     "data": {
      "text/plain": [
       "array([  1.58266008e-100,  -1.67351733e-099,   2.07315708e-098,\n",
       "         2.83885132e-097,  -8.11440309e-096,  -2.22093359e-095,\n",
       "         1.34958419e-094,  -9.85643677e-094,  -3.58847068e-093,\n",
       "        -6.24503566e-094,   1.48758464e-090,   8.91280793e-089,\n",
       "        -4.97982371e-088,   3.31557512e-087,  -1.05370799e-087,\n",
       "        -1.39640047e-085,   2.16860057e-085,   1.46689372e-083,\n",
       "        -1.32339250e-082,   1.21605841e-081,   2.58954550e-080,\n",
       "         2.83160498e-079,   7.91361699e-078,  -8.70979476e-077,\n",
       "        -4.08113700e-076,  -1.23671113e-074,   1.62251604e-073,\n",
       "         8.11794592e-074,  -4.87202440e-073,  -4.25401403e-071,\n",
       "         3.15719685e-070,   2.38319228e-069,   2.77604338e-068,\n",
       "         7.01071631e-068,   3.58452797e-066,  -2.92889586e-065,\n",
       "         2.55413645e-064,   1.82647417e-063,   3.96362995e-062,\n",
       "        -4.43894459e-061,  -4.04787751e-060,  -6.50427084e-059,\n",
       "         4.58158673e-058,  -1.32900186e-057,  -4.23649383e-057,\n",
       "        -5.57567271e-055,  -2.29654821e-055,   5.97955844e-054,\n",
       "        -3.80361434e-052,   4.51926753e-051,  -3.22710301e-051,\n",
       "         5.76967904e-049,  -3.84086820e-048,   3.98491569e-047,\n",
       "        -1.08299337e-045,   3.71653952e-045,   1.39562252e-044,\n",
       "        -1.71439441e-043,  -3.51266184e-042,   2.06494737e-041,\n",
       "        -8.82668347e-041,   8.53911507e-039,   2.55197520e-038,\n",
       "         5.36401682e-037,  -3.88704512e-036,  -3.33198311e-035,\n",
       "        -3.20163675e-034,  -3.06315291e-033,   2.44431180e-032,\n",
       "        -3.41574824e-032,  -2.15923257e-030,  -2.48696884e-029,\n",
       "        -8.02664281e-029,   2.94601312e-027,  -6.18615019e-026,\n",
       "        -1.18995142e-024,  -7.15207925e-024,  -9.49785435e-024,\n",
       "         2.94898939e-022,   5.22743847e-021,   1.38619800e-021,\n",
       "         1.18249127e-019,  -5.80483524e-018,   7.63049029e-018,\n",
       "        -2.30479254e-016,  -1.23105301e-015,  -2.25954128e-014,\n",
       "        -2.77972618e-013,   1.66904881e-012,  -7.38269928e-012,\n",
       "        -1.27359311e-010,  -9.76348418e-009,  -6.63519771e-009,\n",
       "         3.56725536e-007,   1.98911911e-006,   5.39157903e-005,\n",
       "         1.71098021e-003,   2.06634531e-003,  -2.33720656e-003,\n",
       "        -2.22744015e-002])"
      ]
     },
     "execution_count": 5,
     "metadata": {},
     "output_type": "execute_result"
    }
   ],
   "source": [
    "x"
   ]
  },
  {
   "cell_type": "code",
   "execution_count": 3,
   "metadata": {},
   "outputs": [
    {
     "name": "stdout",
     "output_type": "stream",
     "text": [
      "10\n",
      "20\n",
      "30\n",
      "40\n",
      "50\n",
      "60\n",
      "70\n",
      "80\n",
      "90\n"
     ]
    }
   ],
   "source": [
    "skip =10\n",
    "for i in range(1,100):\n",
    "    if(i%skip==0):\n",
    "        print(i)"
   ]
  },
  {
   "cell_type": "code",
   "execution_count": null,
   "metadata": {},
   "outputs": [],
   "source": []
  }
 ],
 "metadata": {
  "kernelspec": {
   "display_name": "Python 3",
   "language": "python",
   "name": "python3"
  },
  "language_info": {
   "codemirror_mode": {
    "name": "ipython",
    "version": 3
   },
   "file_extension": ".py",
   "mimetype": "text/x-python",
   "name": "python",
   "nbconvert_exporter": "python",
   "pygments_lexer": "ipython3",
   "version": "3.6.3"
  }
 },
 "nbformat": 4,
 "nbformat_minor": 2
}
