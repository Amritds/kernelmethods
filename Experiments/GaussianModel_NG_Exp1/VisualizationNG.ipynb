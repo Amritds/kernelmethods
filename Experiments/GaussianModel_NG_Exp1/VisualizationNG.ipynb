{
 "cells": [
  {
   "cell_type": "code",
   "execution_count": 1,
   "metadata": {},
   "outputs": [],
   "source": [
    "import numpy as np\n",
    "import pickle\n",
    "import matplotlib.pyplot as plt\n",
    "from scipy.stats import gaussian_kde\n",
    "from Utilities.ExpModels import  GaussianModel\n",
    "\n",
    "model = GaussianModel(3,-20,20, 432) "
   ]
  },
  {
   "cell_type": "code",
   "execution_count": 2,
   "metadata": {},
   "outputs": [],
   "source": [
    "with open('estimated_probabilities.pickle', 'rb') as f:\n",
    "     (mu_values,estimated_probabilities)  = pickle.load(f)\n",
    "\n",
    "#--------Run Evaluation -----------------------------------------------------------------------#\n",
    "(probabilities,classifiers_test_scores) = estimated_probabilities\n",
    "classifiers_test_scores = np.swapaxes(classifiers_test_scores,0,1)\n",
    "\n",
    "kD_POLY =np.load('POLY_klDivergence.npy')\n",
    "kD_SPOLY =np.load('Standardized_POLY_klDivergence.npy')\n",
    "\n",
    "kD_RBF =np.load('RBF_klDivergence.npy')\n",
    "kD_SRBF =np.load('Standardized_RBF_klDivergence.npy')"
   ]
  },
  {
   "cell_type": "code",
   "execution_count": 3,
   "metadata": {},
   "outputs": [
    {
     "data": {
      "text/plain": [
       "(4, 100)"
      ]
     },
     "execution_count": 3,
     "metadata": {},
     "output_type": "execute_result"
    }
   ],
   "source": [
    "classifiers_test_scores.shape\n",
    "#POLY\n",
    "#RBF\n",
    "#S_POLY\n",
    "#S_RBF"
   ]
  },
  {
   "cell_type": "code",
   "execution_count": 4,
   "metadata": {},
   "outputs": [],
   "source": [
    "delta = kD_RBF -kD_POLY"
   ]
  },
  {
   "cell_type": "code",
   "execution_count": 14,
   "metadata": {},
   "outputs": [
    {
     "data": {
      "text/plain": [
       "<matplotlib.figure.Figure at 0x7f91cf6105c0>"
      ]
     },
     "metadata": {},
     "output_type": "display_data"
    },
    {
     "data": {
      "image/png": "[encoded data removed]",
      "text/plain": [
       "<matplotlib.figure.Figure at 0x7f91cf6106d8>"
      ]
     },
     "metadata": {},
     "output_type": "display_data"
    }
   ],
   "source": [
    "plt.clf()\n",
    "fig =plt.figure()\n",
    "ax =fig.add_subplot(111)\n",
    "#density = gaussian_kde(delta)\n",
    "#xs = np.linspace(-2,2,50)\n",
    "#ax.plot(xs,density(xs))\n",
    "ax.hist(kD_SRBF)\n",
    "#ax.plot(np.linspace(-6,6,100),classifiers_test_scores[0],label ='POLY')\n",
    "#ax.plot(np.linspace(-6,6,100),classifiers_test_scores[1],label='RBF')\n",
    "\n",
    "\n",
    "ax.vlines(0,0,1)\n",
    "ax.set_xlabel('Delta kl divergence RBF, POLY kernels')\n",
    "ax.set_ylabel('Frequency')\n",
    "plt.legend()\n",
    "plt.show()\n",
    "fig.savefig('POLY_kD.pdf')"
   ]
  },
  {
   "cell_type": "code",
   "execution_count": 28,
   "metadata": {},
   "outputs": [],
   "source": [
    "#Observation:\n",
    "#Standardization has no effect for poly, exact same kl divergence approximated.\n",
    "#Standardization for rbf very slightly worse kl divergence\n",
    "#Poly wins.\n",
    "#Best performer: Poly degree 2 kernel\n",
    "#Plot the avg kl divergence "
   ]
  },
  {
   "cell_type": "code",
   "execution_count": 32,
   "metadata": {},
   "outputs": [
    {
     "data": {
      "text/plain": [
       "0.074111072969183345"
      ]
     },
     "execution_count": 32,
     "metadata": {},
     "output_type": "execute_result"
    }
   ],
   "source": [
    "np.mean(kD_POLY)"
   ]
  },
  {
   "cell_type": "code",
   "execution_count": 34,
   "metadata": {},
   "outputs": [],
   "source": [
    "A=(kD_POLY -np.mean(kD_POLY))"
   ]
  },
  {
   "cell_type": "code",
   "execution_count": 35,
   "metadata": {},
   "outputs": [
    {
     "data": {
      "text/plain": [
       "2"
      ]
     },
     "execution_count": 35,
     "metadata": {},
     "output_type": "execute_result"
    }
   ],
   "source": [
    "np.argmin(A)"
   ]
  },
  {
   "cell_type": "code",
   "execution_count": 6,
   "metadata": {},
   "outputs": [
    {
     "data": {
      "text/plain": [
       "(100, 1)"
      ]
     },
     "execution_count": 6,
     "metadata": {},
     "output_type": "execute_result"
    }
   ],
   "source": [
    "(generatingParameters,obsData) = np.load('ObservedData.npy')\n",
    "obsData.shape"
   ]
  },
  {
   "cell_type": "code",
   "execution_count": 7,
   "metadata": {},
   "outputs": [],
   "source": [
    "obsData =np.abs(obsData)"
   ]
  },
  {
   "cell_type": "code",
   "execution_count": 8,
   "metadata": {},
   "outputs": [
    {
     "data": {
      "text/plain": [
       "69"
      ]
     },
     "execution_count": 8,
     "metadata": {},
     "output_type": "execute_result"
    }
   ],
   "source": [
    "np.argmin(obsData)"
   ]
  },
  {
   "cell_type": "code",
   "execution_count": 9,
   "metadata": {},
   "outputs": [
    {
     "data": {
      "text/plain": [
       "array([ 0.13966503])"
      ]
     },
     "execution_count": 9,
     "metadata": {},
     "output_type": "execute_result"
    }
   ],
   "source": [
    "obsData[69]"
   ]
  },
  {
   "cell_type": "code",
   "execution_count": 10,
   "metadata": {},
   "outputs": [
    {
     "data": {
      "text/plain": [
       "0.010901286732881772"
      ]
     },
     "execution_count": 10,
     "metadata": {},
     "output_type": "execute_result"
    }
   ],
   "source": [
    "kD_POLY[69]"
   ]
  },
  {
   "cell_type": "code",
   "execution_count": 11,
   "metadata": {},
   "outputs": [
    {
     "data": {
      "text/plain": [
       "0.0084089251546434433"
      ]
     },
     "execution_count": 11,
     "metadata": {},
     "output_type": "execute_result"
    }
   ],
   "source": [
    "kD_RBF[69]"
   ]
  },
  {
   "cell_type": "code",
   "execution_count": 12,
   "metadata": {},
   "outputs": [],
   "source": [
    "# StandRBF vs RBF \n",
    "# RBF vs POLY \n",
    "# SHOW accuracies for RBF and poly are nearly identical across mu values.\n",
    "\n",
    "#Hist POLY \n",
    "#True posterior plots poly,rbf at obs data = 0"
   ]
  },
  {
   "cell_type": "code",
   "execution_count": 17,
   "metadata": {},
   "outputs": [
    {
     "data": {
      "text/plain": [
       "<matplotlib.figure.Figure at 0x7efecbaec048>"
      ]
     },
     "metadata": {},
     "output_type": "display_data"
    },
    {
     "data": {
      "image/png": "[encoded data removed]",
      "text/plain": [
       "<matplotlib.figure.Figure at 0x7efecbaec8d0>"
      ]
     },
     "metadata": {},
     "output_type": "display_data"
    }
   ],
   "source": [
    "observedData = obsData[69]\n",
    "plt.clf()\n",
    "fig = plt.figure()\n",
    "ax = fig.add_subplot(1,1,1)\n",
    "line1, = ax.plot(mu_values,model.truePosterior(mu_values,observedData),'g-')\n",
    "line2, = ax.plot(mu_values,probabilities[69,1],'b-')\n",
    "ax.legend((line1,line2),('true posterior','estimated posterior'))\n",
    "ax.set_xlabel('mu value')\n",
    "ax.set_ylabel('probability')\n",
    "plt.show()\n",
    "fig.savefig('RBFpost.pdf')"
   ]
  },
  {
   "cell_type": "code",
   "execution_count": 16,
   "metadata": {},
   "outputs": [],
   "source": [
    "with open('Standardized_POLY_parametersAndRegScales.pickle', 'rb') as f:\n",
    "     choice  = pickle.load(f)"
   ]
  },
  {
   "cell_type": "code",
   "execution_count": 17,
   "metadata": {},
   "outputs": [
    {
     "data": {
      "text/plain": [
       "[(2, array([  1.00000000e+01,   5.27263158e+03,   1.05352632e+04,\n",
       "           1.57978947e+04,   2.10605263e+04,   2.63231579e+04,\n",
       "           3.15857895e+04,   3.68484211e+04,   4.21110526e+04,\n",
       "           4.73736842e+04,   5.26363158e+04,   5.78989474e+04,\n",
       "           6.31615789e+04,   6.84242105e+04,   7.36868421e+04,\n",
       "           7.89494737e+04,   8.42121053e+04,   8.94747368e+04,\n",
       "           9.47373684e+04,   1.00000000e+05]))]"
      ]
     },
     "execution_count": 17,
     "metadata": {},
     "output_type": "execute_result"
    }
   ],
   "source": [
    "choice"
   ]
  },
  {
   "cell_type": "code",
   "execution_count": null,
   "metadata": {},
   "outputs": [],
   "source": []
  }
 ],
 "metadata": {
  "kernelspec": {
   "display_name": "Python 3",
   "language": "python",
   "name": "python3"
  },
  "language_info": {
   "codemirror_mode": {
    "name": "ipython",
    "version": 3
   },
   "file_extension": ".py",
   "mimetype": "text/x-python",
   "name": "python",
   "nbconvert_exporter": "python",
   "pygments_lexer": "ipython3",
   "version": "3.6.3"
  }
 },
 "nbformat": 4,
 "nbformat_minor": 2
}
