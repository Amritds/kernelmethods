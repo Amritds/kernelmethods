{
 "cells": [
  {
   "cell_type": "code",
   "execution_count": 1,
   "metadata": {},
   "outputs": [],
   "source": [
    "import numpy as np\n",
    "import pickle\n",
    "import matplotlib.pyplot as plt\n",
    "from scipy.stats import gaussian_kde\n",
    "from Utilities.ExpModels import  GaussianModel\n",
    "\n",
    "model = GaussianModel(3,-20,20, 432) "
   ]
  },
  {
   "cell_type": "code",
   "execution_count": 6,
   "metadata": {},
   "outputs": [],
   "source": [
    "prob2 =np.load('ObsPolyprob_deg2.npy')\n",
    "prob4 =np.load('ObsPolyprob_deg4.npy') "
   ]
  },
  {
   "cell_type": "code",
   "execution_count": 10,
   "metadata": {},
   "outputs": [
    {
     "data": {
      "text/plain": [
       "-6.9206067877708719"
      ]
     },
     "execution_count": 10,
     "metadata": {},
     "output_type": "execute_result"
    }
   ],
   "source": [
    "obsData = np.load('ObservedData.npy')\n",
    "np.amin(obsData)"
   ]
  },
  {
   "cell_type": "code",
   "execution_count": 3,
   "metadata": {},
   "outputs": [],
   "source": [
    "\n",
    "\n",
    "kD_POLY2 =np.load('KL_POLY_degree2.npy')\n",
    "kD_POLY4 =np.load('KL_POLY_degree4.npy')"
   ]
  },
  {
   "cell_type": "code",
   "execution_count": 3,
   "metadata": {},
   "outputs": [
    {
     "data": {
      "text/plain": [
       "(4, 100)"
      ]
     },
     "execution_count": 3,
     "metadata": {},
     "output_type": "execute_result"
    }
   ],
   "source": [
    "classifiers_test_scores.shape\n",
    "#POLY\n",
    "#RBF\n",
    "#S_POLY\n",
    "#S_RBF"
   ]
  },
  {
   "cell_type": "code",
   "execution_count": 4,
   "metadata": {},
   "outputs": [
    {
     "name": "stdout",
     "output_type": "stream",
     "text": [
      "0.0131683899592\n",
      "0.0547944578276\n"
     ]
    }
   ],
   "source": [
    "print(kD_POLY2[0])\n",
    "print(kD_POLY4[0])"
   ]
  },
  {
   "cell_type": "code",
   "execution_count": 6,
   "metadata": {},
   "outputs": [
    {
     "ename": "NameError",
     "evalue": "name 'kD_SRBF' is not defined",
     "output_type": "error",
     "traceback": [
      "\u001b[0;31m---------------------------------------------------------------------------\u001b[0m",
      "\u001b[0;31mNameError\u001b[0m                                 Traceback (most recent call last)",
      "\u001b[0;32m<ipython-input-6-8baf00cb8e2d>\u001b[0m in \u001b[0;36m<module>\u001b[0;34m()\u001b[0m\n\u001b[1;32m      5\u001b[0m \u001b[0;31m#xs = np.linspace(-2,2,50)\u001b[0m\u001b[0;34m\u001b[0m\u001b[0;34m\u001b[0m\u001b[0m\n\u001b[1;32m      6\u001b[0m \u001b[0;31m#ax.plot(xs,density(xs))\u001b[0m\u001b[0;34m\u001b[0m\u001b[0;34m\u001b[0m\u001b[0m\n\u001b[0;32m----> 7\u001b[0;31m \u001b[0max\u001b[0m\u001b[0;34m.\u001b[0m\u001b[0mhist\u001b[0m\u001b[0;34m(\u001b[0m\u001b[0mkD_SRBF\u001b[0m\u001b[0;34m)\u001b[0m\u001b[0;34m\u001b[0m\u001b[0m\n\u001b[0m\u001b[1;32m      8\u001b[0m \u001b[0;31m#ax.plot(np.linspace(-6,6,100),classifiers_test_scores[0],label ='POLY')\u001b[0m\u001b[0;34m\u001b[0m\u001b[0;34m\u001b[0m\u001b[0m\n\u001b[1;32m      9\u001b[0m \u001b[0;31m#ax.plot(np.linspace(-6,6,100),classifiers_test_scores[1],label='RBF')\u001b[0m\u001b[0;34m\u001b[0m\u001b[0;34m\u001b[0m\u001b[0m\n",
      "\u001b[0;31mNameError\u001b[0m: name 'kD_SRBF' is not defined"
     ]
    }
   ],
   "source": [
    "plt.clf()\n",
    "fig =plt.figure()\n",
    "ax =fig.add_subplot(111)\n",
    "#density = gaussian_kde(delta)\n",
    "#xs = np.linspace(-2,2,50)\n",
    "#ax.plot(xs,density(xs))\n",
    "ax.hist(kD_SRBF)\n",
    "#ax.plot(np.linspace(-6,6,100),classifiers_test_scores[0],label ='POLY')\n",
    "#ax.plot(np.linspace(-6,6,100),classifiers_test_scores[1],label='RBF')\n",
    "\n",
    "\n",
    "ax.vlines(0,0,1)\n",
    "ax.set_xlabel('Delta kl divergence RBF, POLY kernels')\n",
    "ax.set_ylabel('Frequency')\n",
    "plt.legend()\n",
    "plt.show()\n",
    "fig.savefig('POLY_kD.pdf')"
   ]
  },
  {
   "cell_type": "code",
   "execution_count": 7,
   "metadata": {},
   "outputs": [],
   "source": [
    "#Observation:\n",
    "#Standardization has no effect for poly, exact same kl divergence approximated.\n",
    "#Standardization for rbf very slightly worse kl divergence\n",
    "#Poly wins.\n",
    "#Best performer: Poly degree 2 kernel\n",
    "#Plot the avg kl divergence "
   ]
  },
  {
   "cell_type": "code",
   "execution_count": 32,
   "metadata": {},
   "outputs": [
    {
     "data": {
      "text/plain": [
       "0.074111072969183345"
      ]
     },
     "execution_count": 32,
     "metadata": {},
     "output_type": "execute_result"
    }
   ],
   "source": [
    "np.mean(kD_POLY)"
   ]
  },
  {
   "cell_type": "code",
   "execution_count": 34,
   "metadata": {},
   "outputs": [],
   "source": [
    "A=(kD_POLY -np.mean(kD_POLY))"
   ]
  },
  {
   "cell_type": "code",
   "execution_count": 35,
   "metadata": {},
   "outputs": [
    {
     "data": {
      "text/plain": [
       "2"
      ]
     },
     "execution_count": 35,
     "metadata": {},
     "output_type": "execute_result"
    }
   ],
   "source": [
    "np.argmin(A)"
   ]
  },
  {
   "cell_type": "code",
   "execution_count": 6,
   "metadata": {},
   "outputs": [
    {
     "data": {
      "text/plain": [
       "(100, 1)"
      ]
     },
     "execution_count": 6,
     "metadata": {},
     "output_type": "execute_result"
    }
   ],
   "source": [
    "(generatingParameters,obsData) = np.load('ObservedData.npy')\n",
    "obsData.shape"
   ]
  },
  {
   "cell_type": "code",
   "execution_count": 7,
   "metadata": {},
   "outputs": [],
   "source": [
    "obsData =np.abs(obsData)"
   ]
  },
  {
   "cell_type": "code",
   "execution_count": 8,
   "metadata": {},
   "outputs": [
    {
     "data": {
      "text/plain": [
       "69"
      ]
     },
     "execution_count": 8,
     "metadata": {},
     "output_type": "execute_result"
    }
   ],
   "source": [
    "np.argmin(obsData)"
   ]
  },
  {
   "cell_type": "code",
   "execution_count": 9,
   "metadata": {},
   "outputs": [
    {
     "data": {
      "text/plain": [
       "array([ 0.13966503])"
      ]
     },
     "execution_count": 9,
     "metadata": {},
     "output_type": "execute_result"
    }
   ],
   "source": [
    "obsData[69]"
   ]
  },
  {
   "cell_type": "code",
   "execution_count": 10,
   "metadata": {},
   "outputs": [
    {
     "data": {
      "text/plain": [
       "0.010901286732881772"
      ]
     },
     "execution_count": 10,
     "metadata": {},
     "output_type": "execute_result"
    }
   ],
   "source": [
    "kD_POLY[69]"
   ]
  },
  {
   "cell_type": "code",
   "execution_count": 11,
   "metadata": {},
   "outputs": [
    {
     "data": {
      "text/plain": [
       "0.0084089251546434433"
      ]
     },
     "execution_count": 11,
     "metadata": {},
     "output_type": "execute_result"
    }
   ],
   "source": [
    "kD_RBF[69]"
   ]
  },
  {
   "cell_type": "code",
   "execution_count": 12,
   "metadata": {},
   "outputs": [],
   "source": [
    "# StandRBF vs RBF \n",
    "# RBF vs POLY \n",
    "# SHOW accuracies for RBF and poly are nearly identical across mu values.\n",
    "\n",
    "#Hist POLY \n",
    "#True posterior plots poly,rbf at obs data = 0"
   ]
  },
  {
   "cell_type": "code",
   "execution_count": 7,
   "metadata": {},
   "outputs": [
    {
     "data": {
      "text/plain": [
       "<matplotlib.figure.Figure at 0x7ff6c56195c0>"
      ]
     },
     "metadata": {},
     "output_type": "display_data"
    },
    {
     "data": {
      "text/plain": [
       "<matplotlib.figure.Figure at 0x7ff6c56195f8>"
      ]
     },
     "metadata": {},
     "output_type": "display_data"
    },
    {
     "data": {
      "image/png": "[encoded data removed]",
      "text/plain": [
       "<matplotlib.figure.Figure at 0x7ff6c3456f28>"
      ]
     },
     "metadata": {},
     "output_type": "display_data"
    }
   ],
   "source": [
    "observedData = 0\n",
    "plt.clf()\n",
    "fig = plt.figure()\n",
    "ax = fig.add_subplot(1,1,1)\n",
    "line1, = ax.plot(np.linspace(-6,6,100),model.truePosterior(np.linspace(-6,6,100),observedData),'g-')\n",
    "line2, = ax.plot(np.linspace(-6,6,100),prob4[0],'b-')\n",
    "ax.legend((line1,line2),('true posterior','estimated posterior'))\n",
    "ax.set_xlabel('mu value')\n",
    "ax.set_ylabel('probability')\n",
    "plt.show()\n",
    "#fig.savefig('Deg2post.pdf')"
   ]
  },
  {
   "cell_type": "code",
   "execution_count": 16,
   "metadata": {},
   "outputs": [],
   "source": [
    "with open('Standardized_POLY_parametersAndRegScales.pickle', 'rb') as f:\n",
    "     choice  = pickle.load(f)"
   ]
  },
  {
   "cell_type": "code",
   "execution_count": 8,
   "metadata": {},
   "outputs": [
    {
     "data": {
      "text/plain": [
       "0"
      ]
     },
     "execution_count": 8,
     "metadata": {},
     "output_type": "execute_result"
    }
   ],
   "source": [
    "np.argmin(observedData)"
   ]
  },
  {
   "cell_type": "code",
   "execution_count": 4,
   "metadata": {},
   "outputs": [
    {
     "name": "stdout",
     "output_type": "stream",
     "text": [
      "True\n"
     ]
    }
   ],
   "source": [
    "from pathlib import Path\n",
    "file = Path('./RBF_klDivergence.npy')\n",
    "if(file.is_file()):\n",
    "    print('True')\n",
    "else:\n",
    "    print('False')\n"
   ]
  },
  {
   "cell_type": "code",
   "execution_count": 5,
   "metadata": {},
   "outputs": [],
   "source": [
    "import numpy as np\n",
    "(gp,obs) = np.load('ObservedData.npy')\n"
   ]
  },
  {
   "cell_type": "code",
   "execution_count": 10,
   "metadata": {},
   "outputs": [
    {
     "data": {
      "text/plain": [
       "array([[ 0.        ],\n",
       "       [ 2.4050899 ],\n",
       "       [-2.2935863 ],\n",
       "       [ 0.87114289],\n",
       "       [ 0.39782116],\n",
       "       [ 0.65684598],\n",
       "       [-2.64083487],\n",
       "       [-0.68885963],\n",
       "       [-0.75313348],\n",
       "       [-1.33007611],\n",
       "       [-0.55417064],\n",
       "       [-5.10993481],\n",
       "       [-1.51694041],\n",
       "       [ 1.79751017],\n",
       "       [-0.7205219 ],\n",
       "       [ 5.43076535],\n",
       "       [ 9.52508802],\n",
       "       [ 0.20334999],\n",
       "       [ 0.41592435],\n",
       "       [-0.26066827],\n",
       "       [-0.27676361],\n",
       "       [ 0.8005594 ],\n",
       "       [-2.67746446],\n",
       "       [ 6.94474018],\n",
       "       [ 2.8957666 ],\n",
       "       [-1.79295478],\n",
       "       [ 2.04817148],\n",
       "       [ 0.72399357],\n",
       "       [ 0.66257636],\n",
       "       [ 4.64401014],\n",
       "       [-1.67369425],\n",
       "       [ 2.29515005],\n",
       "       [-1.91490241],\n",
       "       [-0.66416007],\n",
       "       [ 2.41359353],\n",
       "       [-1.44644111],\n",
       "       [ 0.62482628],\n",
       "       [ 3.65095659],\n",
       "       [ 1.1590936 ],\n",
       "       [ 1.79092774],\n",
       "       [-0.64368875],\n",
       "       [-0.87223567],\n",
       "       [-1.10500887],\n",
       "       [ 4.20273681],\n",
       "       [ 0.26020339],\n",
       "       [-2.19134069],\n",
       "       [ 5.84372395],\n",
       "       [-5.43677687],\n",
       "       [-0.12274762],\n",
       "       [ 2.26430397],\n",
       "       [-1.74016511],\n",
       "       [-3.80764613],\n",
       "       [ 2.06770174],\n",
       "       [ 0.74254618],\n",
       "       [-0.54668354],\n",
       "       [-4.36076387],\n",
       "       [ 2.99920156],\n",
       "       [ 1.00107591],\n",
       "       [ 4.37645603],\n",
       "       [ 0.18670202],\n",
       "       [-0.79942902],\n",
       "       [ 1.13953626],\n",
       "       [ 3.70215184],\n",
       "       [ 3.63496005],\n",
       "       [ 1.74236296],\n",
       "       [ 1.69670132],\n",
       "       [ 1.9340208 ],\n",
       "       [-0.03824971],\n",
       "       [-0.5661751 ],\n",
       "       [ 2.8106264 ],\n",
       "       [ 6.71468583],\n",
       "       [ 5.67377257],\n",
       "       [-2.85165293],\n",
       "       [-1.71355829],\n",
       "       [ 3.64112982],\n",
       "       [ 1.4339785 ],\n",
       "       [-3.23424947],\n",
       "       [-0.44547837],\n",
       "       [ 1.90413514],\n",
       "       [-3.17936786],\n",
       "       [-3.06373459],\n",
       "       [-0.02979688],\n",
       "       [ 2.14732816],\n",
       "       [ 1.30735692],\n",
       "       [-4.09532549],\n",
       "       [ 0.59488972],\n",
       "       [-0.82658747],\n",
       "       [ 2.13430534],\n",
       "       [-6.92060679],\n",
       "       [-1.96534814],\n",
       "       [-1.91178003],\n",
       "       [ 0.57914993],\n",
       "       [-1.85197139],\n",
       "       [ 4.03659012],\n",
       "       [ 4.4319663 ],\n",
       "       [ 0.70803405],\n",
       "       [-0.76137323],\n",
       "       [-0.93058168],\n",
       "       [ 4.5100564 ],\n",
       "       [-1.6046104 ],\n",
       "       [-3.17054549]])"
      ]
     },
     "execution_count": 10,
     "metadata": {},
     "output_type": "execute_result"
    }
   ],
   "source": [
    "np.vstack([0,obs])"
   ]
  },
  {
   "cell_type": "code",
   "execution_count": null,
   "metadata": {},
   "outputs": [],
   "source": []
  }
 ],
 "metadata": {
  "kernelspec": {
   "display_name": "Python 3",
   "language": "python",
   "name": "python3"
  },
  "language_info": {
   "codemirror_mode": {
    "name": "ipython",
    "version": 3
   },
   "file_extension": ".py",
   "mimetype": "text/x-python",
   "name": "python",
   "nbconvert_exporter": "python",
   "pygments_lexer": "ipython3",
   "version": "3.6.3"
  }
 },
 "nbformat": 4,
 "nbformat_minor": 2
}
