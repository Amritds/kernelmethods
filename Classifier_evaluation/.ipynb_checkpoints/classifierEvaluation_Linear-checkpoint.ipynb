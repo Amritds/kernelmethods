{
 "cells": [
  {
   "cell_type": "code",
   "execution_count": 1,
   "metadata": {},
   "outputs": [],
   "source": [
    "from __future__ import division\n",
    "import numpy as np\n",
    "import math\n",
    "import matplotlib.mlab as mlab\n",
    "import kernelClassifier as kC\n",
    "reload(kC) \n",
    "from sklearn import linear_model, model_selection\n",
    "import matplotlib.pyplot as plt\n",
    "import sys, os \n",
    "from scipy.stats import norm\n",
    "#Random seed.\n",
    "np.random.seed(432)"
   ]
  },
  {
   "cell_type": "code",
   "execution_count": 2,
   "metadata": {},
   "outputs": [],
   "source": [
    "############################ Code generic to all data models: ########################################################\n",
    "class storeObjectiveFunction:\n",
    "    def __init__(self,clf):\n",
    "        self.clf=clf\n",
    "        self.values=[]\n",
    "        \n",
    "    def update(self,weights):\n",
    "        self.values.append(self.clf.objectiveVal(weights))\n",
    "        \n",
    "    def getVals(self):\n",
    "        return self.values\n",
    "\n",
    "def classify(X_vals,y_vals,clf):\n",
    "    store =storeObjectiveFunction(clf)\n",
    "    clf.train(X_vals,y_vals,0,callback=store.update)\n",
    "    return store   \n",
    "\n",
    "\n",
    "def returnSetup(theta_value, generator_marginal, generator_thetaGiven, create_basis, n_samples):\n",
    "    #Sample from the marginal.\n",
    "    marginal_samples=generator_marginal(n_samples)\n",
    "    marginal_samples_basis=create_basis(marginal_samples)\n",
    "\n",
    "    #Sample from the given class.\n",
    "    theta_samples=generator_thetaGiven(theta_value,n_samples)\n",
    "    theta_samples_basis=create_basis(theta_samples)\n",
    "    \n",
    "    #Setup the classification task.##################################\n",
    "    X_class1 = theta_samples_basis\n",
    "    X_class2= marginal_samples_basis\n",
    "        \n",
    "    y_vals_class1 = np.zeros((len(X_class1),1))+1\n",
    "    y_vals_class2 = np.zeros((len(X_class2),1))-1\n",
    "\n",
    "    y_vals = np.vstack([y_vals_class1,y_vals_class2])\n",
    "    X_vals = np.vstack([X_class1,X_class2])\n",
    "\n",
    "    datapoints=np.hstack([X_vals,y_vals])\n",
    "    np.random.shuffle(datapoints)\n",
    "\n",
    "    X_vals=datapoints[:,0:datapoints.shape[1]-1]\n",
    "    y_vals=datapoints[:,datapoints.shape[1]-1]\n",
    "    ####################################################################\n",
    "    \n",
    "    return (X_vals,y_vals)\n",
    "##########################################################################################################################"
   ]
  },
  {
   "cell_type": "markdown",
   "metadata": {},
   "source": [
    "### GAUSSIAN TOY EXAMPLE ###\n"
   ]
  },
  {
   "cell_type": "code",
   "execution_count": 3,
   "metadata": {},
   "outputs": [],
   "source": [
    "#Takes a single value x and returns a b dimensional basis vector [1,x,x^2,...x^b]\n",
    "def create_basis(msamp,b=3):\n",
    "    basis=np.ones((len(msamp),1))\n",
    "    for i in range (1,b):\n",
    "        temp=np.power(msamp,i)\n",
    "        basis=np.hstack([basis,temp])\n",
    "    return basis\n",
    "\n",
    "#Generates n 1-D samples from a gaussian ditribution with given mean.\n",
    "def generator_thetaGiven(mu,n_samples):\n",
    "    X = np.random.normal(mu,3,(n_samples,1))\n",
    "    return X\n",
    "\n",
    "#Generates n 1-D samples from gaussian ditributions, assuming a uniform dist. over means between [-5,5]\n",
    "def generator_marginal(n_samples):\n",
    "    mu= np.random.uniform(-20,20,(n_samples,1));\n",
    "    X = np.random.normal(mu,3,(n_samples,1));\n",
    "    return X"
   ]
  },
  {
   "cell_type": "markdown",
   "metadata": {},
   "source": [
    "#### Setup classification problem ####"
   ]
  },
  {
   "cell_type": "code",
   "execution_count": 4,
   "metadata": {
    "scrolled": true
   },
   "outputs": [],
   "source": [
    "############################################# Algorithm1 ####################################################################\n",
    "#Disable print statement -- The estimate Probabilities function prints a lot of info.\n",
    "#sys.stdout = open(os.devnull, 'w')\n",
    "\n",
    "#Observed data\n",
    "observed_data=np.array([[0]])\n",
    "#observed_data=np.random.normal(2.3,3,(1,1))\n",
    "\n",
    "#Number of samples to be created by each generator for classification.\n",
    "n_samples=1000\n",
    "\n",
    "#Calculate posterior for mu_values \n",
    "mu_value1= 0\n",
    "mu_value2= 4\n",
    "#Get  classification setup\n",
    "(X_vals1,y_vals1) = returnSetup(mu_value1, generator_marginal, generator_thetaGiven, create_basis, n_samples)\n",
    "(X_vals2,y_vals2) = returnSetup(mu_value2, generator_marginal, generator_thetaGiven, create_basis, n_samples)"
   ]
  },
  {
   "cell_type": "code",
   "execution_count": 5,
   "metadata": {},
   "outputs": [
    {
     "name": "stdout",
     "output_type": "stream",
     "text": [
      "Without scaling or change of basis: \n",
      "Training kernel logistic regression model...\n",
      "\n",
      "COMPLETED. Running Time: 5.263 seconds \n",
      "Training kernel logistic regression model...\n",
      "\n",
      "COMPLETED. Running Time: 2.964 seconds \n"
     ]
    },
    {
     "data": {
      "image/png": "[encoded data removed]",
      "text/plain": [
       "<matplotlib.figure.Figure at 0x39dee50>"
      ]
     },
     "metadata": {},
     "output_type": "display_data"
    }
   ],
   "source": [
    "print('Without scaling or change of basis: ')\n",
    "#Uses my own kernel classifier, with linear kernel.\n",
    "clf=kC.KernelClassifier(kC.kernelLinear,withScaling=False,withPCA=False)\n",
    "store1 = classify(X_vals1,y_vals1,clf)\n",
    "store2 = classify(X_vals2,y_vals2,clf) \n",
    "#Plot results\n",
    "plt.clf()\n",
    "plt.plot(store1.getVals(),'r-') #mu value 0 \n",
    "plt.plot(store2.getVals(),'b-') #mu value 4\n",
    "plt.show()"
   ]
  },
  {
   "cell_type": "code",
   "execution_count": 6,
   "metadata": {},
   "outputs": [
    {
     "name": "stdout",
     "output_type": "stream",
     "text": [
      "With scaling only \n",
      "Training kernel logistic regression model...\n",
      "\n",
      "COMPLETED. Running Time: 1.923 seconds \n",
      "Training kernel logistic regression model...\n",
      "\n",
      "COMPLETED. Running Time: 3.036 seconds \n"
     ]
    },
    {
     "data": {
      "image/png": "[encoded data removed]",
      "text/plain": [
       "<matplotlib.figure.Figure at 0x64f9610>"
      ]
     },
     "metadata": {},
     "output_type": "display_data"
    }
   ],
   "source": [
    "print('With scaling only ')\n",
    "#Uses my own kernel classifier, with linear kernel.\n",
    "clf=kC.KernelClassifier(kC.kernelLinear,withPCA=False)\n",
    "store1 = classify(X_vals1,y_vals1,clf)\n",
    "store2 = classify(X_vals2,y_vals2,clf) \n",
    "#Plot results\n",
    "plt.clf()\n",
    "plt.plot(store1.getVals(),'r-') #mu value 0 \n",
    "plt.plot(store2.getVals(),'b-') #mu value 4\n",
    "plt.show()"
   ]
  },
  {
   "cell_type": "code",
   "execution_count": 7,
   "metadata": {},
   "outputs": [
    {
     "name": "stdout",
     "output_type": "stream",
     "text": [
      "With change of basis no scaling \n",
      "Training kernel logistic regression model...\n",
      "\n",
      "COMPLETED. Running Time: 7.269 seconds \n",
      "Training kernel logistic regression model...\n",
      "\n",
      "COMPLETED. Running Time: 4.039 seconds \n"
     ]
    },
    {
     "data": {
      "image/png": "[encoded data removed]",
      "text/plain": [
       "<matplotlib.figure.Figure at 0x6503a10>"
      ]
     },
     "metadata": {},
     "output_type": "display_data"
    }
   ],
   "source": [
    "print('With change of basis no scaling ')\n",
    "#Uses my own kernel classifier, with linear kernel.\n",
    "clf=kC.KernelClassifier(kC.kernelLinear,withScaling=False)\n",
    "store1 = classify(X_vals1,y_vals1,clf)\n",
    "store2 = classify(X_vals2,y_vals2,clf) \n",
    "#Plot results\n",
    "plt.clf()\n",
    "plt.plot(store1.getVals(),'r-') #mu value 0 \n",
    "plt.plot(store2.getVals(),'b-') #mu value 4\n",
    "plt.show()"
   ]
  },
  {
   "cell_type": "code",
   "execution_count": 8,
   "metadata": {},
   "outputs": [
    {
     "name": "stdout",
     "output_type": "stream",
     "text": [
      "With change of basis and scaling \n",
      "Training kernel logistic regression model...\n",
      "\n",
      "COMPLETED. Running Time: 2.698 seconds \n",
      "Training kernel logistic regression model...\n",
      "\n",
      "COMPLETED. Running Time: 4.221 seconds \n"
     ]
    },
    {
     "data": {
      "image/png": "[encoded data removed]",
      "text/plain": [
       "<matplotlib.figure.Figure at 0x672d550>"
      ]
     },
     "metadata": {},
     "output_type": "display_data"
    }
   ],
   "source": [
    "print('With change of basis and scaling ')\n",
    "#Uses my own kernel classifier, with linear kernel.\n",
    "clf=kC.KernelClassifier(kC.kernelLinear)\n",
    "store1 = classify(X_vals1,y_vals1,clf)\n",
    "store2 = classify(X_vals2,y_vals2,clf) \n",
    "#Plot results\n",
    "plt.clf()\n",
    "plt.plot(store1.getVals(),'r-') #mu value 0 \n",
    "plt.plot(store2.getVals(),'b-') #mu value 4\n",
    "plt.show()"
   ]
  },
  {
   "cell_type": "code",
   "execution_count": null,
   "metadata": {},
   "outputs": [],
   "source": []
  }
 ],
 "metadata": {
  "kernelspec": {
   "display_name": "Python 3",
   "language": "python",
   "name": "python3"
  },
  "language_info": {
   "codemirror_mode": {
    "name": "ipython",
    "version": 3
   },
   "file_extension": ".py",
   "mimetype": "text/x-python",
   "name": "python",
   "nbconvert_exporter": "python",
   "pygments_lexer": "ipython3",
   "version": "3.6.3"
  }
 },
 "nbformat": 4,
 "nbformat_minor": 2
}
