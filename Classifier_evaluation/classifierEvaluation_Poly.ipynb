{
 "cells": [
  {
   "cell_type": "code",
   "execution_count": 5,
   "metadata": {},
   "outputs": [],
   "source": [
    "from __future__ import division\n",
    "import numpy as np\n",
    "import math\n",
    "import matplotlib.mlab as mlab\n",
    "import kernelClassifier as kC\n",
    "reload(kC) \n",
    "from sklearn import linear_model, model_selection\n",
    "import matplotlib.pyplot as plt\n",
    "import sys, os \n",
    "from scipy.stats import norm\n",
    "#Random seed.\n",
    "np.random.seed(432)"
   ]
  },
  {
   "cell_type": "code",
   "execution_count": 9,
   "metadata": {},
   "outputs": [],
   "source": [
    "############################ Code generic to all data models: ########################################################\n",
    "class storeObjectiveFunction:\n",
    "    def __init__(self,clf):\n",
    "        self.clf=clf\n",
    "        self.values=[]\n",
    "        \n",
    "    def update(self,weights):\n",
    "        self.values.append(self.clf.objectiveVal(weights))\n",
    "        \n",
    "    def getVals(self):\n",
    "        return self.values\n",
    "\n",
    "def classify(X_vals,y_vals,clf):\n",
    "    store =storeObjectiveFunction(clf)\n",
    "    clf.train(X_vals,y_vals,0,callback=store.update)\n",
    "    return store   \n",
    "\n",
    "\n",
    "def returnSetup(theta_value, generator_marginal, generator_thetaGiven, n_samples):\n",
    "    #Sample from the marginal.\n",
    "    marginal_samples=generator_marginal(n_samples)\n",
    "\n",
    "    #Sample from the given class.\n",
    "    theta_samples=generator_thetaGiven(theta_value,n_samples)\n",
    "    \n",
    "    #Setup the classification task.##################################\n",
    "    X_class1 = theta_samples\n",
    "    X_class2= marginal_samples\n",
    "        \n",
    "    y_vals_class1 = np.zeros((len(X_class1),1))+1\n",
    "    y_vals_class2 = np.zeros((len(X_class2),1))-1\n",
    "\n",
    "    y_vals = np.vstack([y_vals_class1,y_vals_class2])\n",
    "    X_vals = np.vstack([X_class1,X_class2])\n",
    "\n",
    "    datapoints=np.hstack([X_vals,y_vals])\n",
    "    np.random.shuffle(datapoints)\n",
    "\n",
    "    X_vals=datapoints[:,0:datapoints.shape[1]-1]\n",
    "    y_vals=datapoints[:,datapoints.shape[1]-1]\n",
    "    ####################################################################\n",
    "    \n",
    "    return (X_vals,y_vals)\n",
    "##########################################################################################################################"
   ]
  },
  {
   "cell_type": "markdown",
   "metadata": {},
   "source": [
    "### GAUSSIAN TOY EXAMPLE ###\n"
   ]
  },
  {
   "cell_type": "code",
   "execution_count": 10,
   "metadata": {},
   "outputs": [],
   "source": [
    "#Generates n 1-D samples from a gaussian ditribution with given mean.\n",
    "def generator_thetaGiven(mu,n_samples):\n",
    "    X = np.random.normal(mu,3,(n_samples,1))\n",
    "    return X\n",
    "\n",
    "#Generates n 1-D samples from gaussian ditributions, assuming a uniform dist. over means between [-5,5]\n",
    "def generator_marginal(n_samples):\n",
    "    mu= np.random.uniform(-20,20,(n_samples,1));\n",
    "    X = np.random.normal(mu,3,(n_samples,1));\n",
    "    return X"
   ]
  },
  {
   "cell_type": "markdown",
   "metadata": {},
   "source": [
    "#### Setup classification problem ####"
   ]
  },
  {
   "cell_type": "code",
   "execution_count": 11,
   "metadata": {
    "scrolled": true
   },
   "outputs": [],
   "source": [
    "############################################# Algorithm1 ####################################################################\n",
    "#Disable print statement -- The estimate Probabilities function prints a lot of info.\n",
    "#sys.stdout = open(os.devnull, 'w')\n",
    "\n",
    "#Observed data\n",
    "observed_data=np.array([[0]])\n",
    "#observed_data=np.random.normal(2.3,3,(1,1))\n",
    "\n",
    "#Number of samples to be created by each generator for classification.\n",
    "n_samples=1000\n",
    "\n",
    "#Calculate posterior for mu_values \n",
    "mu_value1= 0\n",
    "mu_value2= 4\n",
    "#Get  classification setup\n",
    "(X_vals1,y_vals1) = returnSetup(mu_value1, generator_marginal, generator_thetaGiven, n_samples)\n",
    "(X_vals2,y_vals2) = returnSetup(mu_value2, generator_marginal, generator_thetaGiven, n_samples)"
   ]
  },
  {
   "cell_type": "markdown",
   "metadata": {},
   "source": [
    "### With Scaling ###"
   ]
  },
  {
   "cell_type": "markdown",
   "metadata": {},
   "source": [
    "##### Polynomial kernel degree 2 #####"
   ]
  },
  {
   "cell_type": "code",
   "execution_count": 12,
   "metadata": {},
   "outputs": [
    {
     "name": "stdout",
     "output_type": "stream",
     "text": [
      "With scaling only \n",
      "Training kernel logistic regression model...\n",
      "\n",
      "COMPLETED. Running Time: 3.296 seconds \n",
      "Training kernel logistic regression model...\n",
      "\n",
      "COMPLETED. Running Time: 4.251 seconds \n"
     ]
    },
    {
     "data": {
      "image/png": "[encoded data removed]",
      "text/plain": [
       "<matplotlib.figure.Figure at 0x26dbed0>"
      ]
     },
     "metadata": {},
     "output_type": "display_data"
    }
   ],
   "source": [
    "print('With scaling only ')\n",
    "#Uses my own kernel classifier, with polynomial kernel.\n",
    "kPoly = lambda X1,X2: kC.kernelPoly(X1,X2,2)\n",
    "clf=kC.KernelClassifier(kPoly,withPCA=False)\n",
    "store1 = classify(X_vals1,y_vals1,clf)\n",
    "store2 = classify(X_vals2,y_vals2,clf) \n",
    "#Plot results\n",
    "plt.clf()\n",
    "plt.plot(store1.getVals(),'r-') #mu value 0 \n",
    "plt.plot(store2.getVals(),'b-') #mu value 4\n",
    "plt.show()"
   ]
  },
  {
   "cell_type": "markdown",
   "metadata": {},
   "source": [
    "##### Polynomial kernel degree 4 #####"
   ]
  },
  {
   "cell_type": "code",
   "execution_count": 13,
   "metadata": {},
   "outputs": [
    {
     "name": "stdout",
     "output_type": "stream",
     "text": [
      "With scaling only \n",
      "Training kernel logistic regression model...\n",
      "\n",
      "COMPLETED. Running Time: 2.383 seconds \n",
      "Training kernel logistic regression model...\n",
      "\n",
      "COMPLETED. Running Time: 3.301 seconds \n"
     ]
    },
    {
     "data": {
      "image/png": "[encoded data removed]",
      "text/plain": [
       "<matplotlib.figure.Figure at 0x5214790>"
      ]
     },
     "metadata": {},
     "output_type": "display_data"
    }
   ],
   "source": [
    "print('With scaling only ')\n",
    "#Uses my own kernel classifier, with polynomial kernel.\n",
    "kPoly = lambda X1,X2: kC.kernelPoly(X1,X2,4)\n",
    "clf=kC.KernelClassifier(kPoly,withPCA=False)\n",
    "store1 = classify(X_vals1,y_vals1,clf)\n",
    "store2 = classify(X_vals2,y_vals2,clf) \n",
    "#Plot results\n",
    "plt.clf()\n",
    "plt.plot(store1.getVals(),'r-') #mu value 0 \n",
    "plt.plot(store2.getVals(),'b-') #mu value 4\n",
    "plt.show()"
   ]
  },
  {
   "cell_type": "code",
   "execution_count": 18,
   "metadata": {},
   "outputs": [
    {
     "name": "stdout",
     "output_type": "stream",
     "text": [
      "With scaling and change in basis\n",
      "Training kernel logistic regression model...\n",
      "\n",
      "COMPLETED. Running Time: 3.200 seconds \n",
      "Training kernel logistic regression model...\n",
      "\n",
      "COMPLETED. Running Time: 4.434 seconds \n"
     ]
    },
    {
     "data": {
      "image/png": "[encoded data removed]",
      "text/plain": [
       "<matplotlib.figure.Figure at 0x52ec310>"
      ]
     },
     "metadata": {},
     "output_type": "display_data"
    }
   ],
   "source": [
    "print('With scaling and change in basis')\n",
    "#Uses my own kernel classifier, with polynomial kernel.\n",
    "kPoly = lambda X1,X2: kC.kernelPoly(X1,X2,4)\n",
    "clf=kC.KernelClassifier(kPoly)\n",
    "store1 = classify(X_vals1,y_vals1,clf)\n",
    "store2 = classify(X_vals2,y_vals2,clf) \n",
    "#Plot results\n",
    "plt.clf()\n",
    "plt.plot(store1.getVals(),'r-') #mu value 0 \n",
    "plt.plot(store2.getVals(),'b-') #mu value 4\n",
    "plt.show()"
   ]
  },
  {
   "cell_type": "markdown",
   "metadata": {},
   "source": [
    "### No scaling ###"
   ]
  },
  {
   "cell_type": "markdown",
   "metadata": {},
   "source": [
    "##### Polynomial kernel degree 2 #####"
   ]
  },
  {
   "cell_type": "code",
   "execution_count": 14,
   "metadata": {},
   "outputs": [
    {
     "name": "stdout",
     "output_type": "stream",
     "text": [
      "No scaling\n",
      "Training kernel logistic regression model...\n",
      "\n",
      "COMPLETED. Running Time: 5.556 seconds \n",
      "Training kernel logistic regression model...\n",
      "\n",
      "COMPLETED. Running Time: 5.319 seconds \n"
     ]
    },
    {
     "data": {
      "image/png": "[encoded data removed]",
      "text/plain": [
       "<matplotlib.figure.Figure at 0x5301450>"
      ]
     },
     "metadata": {},
     "output_type": "display_data"
    }
   ],
   "source": [
    "print('No scaling')\n",
    "#Uses my own kernel classifier, with polynomial kernel.\n",
    "kPoly = lambda X1,X2: kC.kernelPoly(X1,X2,2)\n",
    "clf=kC.KernelClassifier(kPoly,withScaling=False,withPCA=False)\n",
    "store1 = classify(X_vals1,y_vals1,clf)\n",
    "store2 = classify(X_vals2,y_vals2,clf) \n",
    "#Plot results\n",
    "plt.clf()\n",
    "plt.plot(store1.getVals(),'r-') #mu value 0 \n",
    "plt.plot(store2.getVals(),'b-') #mu value 4\n",
    "plt.show()"
   ]
  },
  {
   "cell_type": "markdown",
   "metadata": {},
   "source": [
    "##### Polynomial kernel degree 4 #####"
   ]
  },
  {
   "cell_type": "code",
   "execution_count": 15,
   "metadata": {},
   "outputs": [
    {
     "name": "stdout",
     "output_type": "stream",
     "text": [
      "No scaling \n",
      "Training kernel logistic regression model...\n",
      "\n",
      "COMPLETED. Running Time: 3.199 seconds \n",
      "Training kernel logistic regression model...\n",
      "\n",
      "COMPLETED. Running Time: 4.032 seconds \n"
     ]
    },
    {
     "data": {
      "image/png": "[encoded data removed]",
      "text/plain": [
       "<matplotlib.figure.Figure at 0x5303b10>"
      ]
     },
     "metadata": {},
     "output_type": "display_data"
    }
   ],
   "source": [
    "print('No scaling ')\n",
    "#Uses my own kernel classifier, with polynoomial kernel.\n",
    "kPoly = lambda X1,X2: kC.kernelPoly(X1,X2,4)\n",
    "clf=kC.KernelClassifier(kPoly,withScaling=False,withPCA=False)\n",
    "store1 = classify(X_vals1,y_vals1,clf)\n",
    "store2 = classify(X_vals2,y_vals2,clf) \n",
    "#Plot results\n",
    "plt.clf()\n",
    "plt.plot(store1.getVals(),'r-') #mu value 0 \n",
    "plt.plot(store2.getVals(),'b-') #mu value 4\n",
    "plt.show()"
   ]
  },
  {
   "cell_type": "code",
   "execution_count": null,
   "metadata": {},
   "outputs": [],
   "source": []
  }
 ],
 "metadata": {
  "kernelspec": {
   "display_name": "Python 3",
   "language": "python",
   "name": "python3"
  },
  "language_info": {
   "codemirror_mode": {
    "name": "ipython",
    "version": 3
   },
   "file_extension": ".py",
   "mimetype": "text/x-python",
   "name": "python",
   "nbconvert_exporter": "python",
   "pygments_lexer": "ipython3",
   "version": "3.6.3"
  }
 },
 "nbformat": 4,
 "nbformat_minor": 2
}
